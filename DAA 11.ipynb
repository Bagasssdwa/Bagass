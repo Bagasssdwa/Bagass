{
  "nbformat": 4,
  "nbformat_minor": 0,
  "metadata": {
    "colab": {
      "name": "Untitled10.ipynb",
      "provenance": [],
      "authorship_tag": "ABX9TyPC7nOirZbHitcNqfk0Lqm7",
      "include_colab_link": true
    },
    "kernelspec": {
      "name": "python3",
      "display_name": "Python 3"
    },
    "language_info": {
      "name": "python"
    }
  },
  "cells": [
    {
      "cell_type": "markdown",
      "metadata": {
        "id": "view-in-github",
        "colab_type": "text"
      },
      "source": [
        "<a href=\"https://colab.research.google.com/github/Bagasssdwa/Bagass/blob/main/DAA%2011.ipynb\" target=\"_parent\"><img src=\"https://colab.research.google.com/assets/colab-badge.svg\" alt=\"Open In Colab\"/></a>"
      ]
    },
    {
      "cell_type": "code",
      "metadata": {
        "id": "IPl9zT0G2hr5"
      },
      "source": [
        "# a-----b\n",
        "# |     |\n",
        "# |     |\n",
        "# c-----d-----e"
      ],
      "execution_count": 40,
      "outputs": []
    },
    {
      "cell_type": "code",
      "metadata": {
        "colab": {
          "base_uri": "https://localhost:8080/"
        },
        "id": "2hiTzSiE27I9",
        "outputId": "51ac2188-ccf3-42bb-efd9-273273d3dee3"
      },
      "source": [
        "graph = { \"a\" : [\"b\", \"c\"],\n",
        "          \"b\" : [\"a\", \"d\"],\n",
        "          \"c\" : [\"a\", \"d\"],\n",
        "          \"d\" : [\"e\"],\n",
        "          \"e\" : [\"d\"]\n",
        "         }\n",
        "\n",
        "print(graph)"
      ],
      "execution_count": 41,
      "outputs": [
        {
          "output_type": "stream",
          "name": "stdout",
          "text": [
            "{'a': ['b', 'c'], 'b': ['a', 'd'], 'c': ['a', 'd'], 'd': ['e'], 'e': ['d']}\n"
          ]
        }
      ]
    },
    {
      "cell_type": "code",
      "metadata": {
        "colab": {
          "base_uri": "https://localhost:8080/"
        },
        "id": "t2F0Pcr0_4N2",
        "outputId": "f95a1146-8ed2-4c88-9223-d5ac9b57c3ef"
      },
      "source": [
        "# t----u----v\n",
        "# |         |\n",
        "# |         |\n",
        "# w----- ---x\n",
        "# |         |\n",
        "# z         s\n",
        "\n",
        "graph = { \"t\" : [\"u\", \"v\"],\n",
        "          \"u\" : [\"v\", \"t\"],\n",
        "          \"v\" : [\"u\", \"x\"],\n",
        "          \"w\" : [\"x\", \"z\", \"t\"],\n",
        "          \"x\" : [\"w\", \"s\", \"v\"],\n",
        "          \"s\" : [\"x\"]\n",
        "         }\n",
        "\n",
        "print(graph)"
      ],
      "execution_count": 42,
      "outputs": [
        {
          "output_type": "stream",
          "name": "stdout",
          "text": [
            "{'t': ['u', 'v'], 'u': ['v', 't'], 'v': ['u', 'x'], 'w': ['x', 'z', 't'], 'x': ['w', 's', 'v'], 's': ['x']}\n"
          ]
        }
      ]
    },
    {
      "cell_type": "code",
      "metadata": {
        "colab": {
          "base_uri": "https://localhost:8080/"
        },
        "id": "TvExOU7zA_Hb",
        "outputId": "03f31ab2-0c06-4cb0-d4d6-36335c9396cb"
      },
      "source": [
        "# r----o----m\n",
        "# |         |\n",
        "# l----p----n\n",
        "\n",
        "graph = { \"r\" : [\"o\", \"m\"],\n",
        "          \"o\" : [\"r\", \"m\", \"p\"],\n",
        "          \"m\" : [\"o\", \"n\"],\n",
        "          \"l\" : [\"r\", \"p\"],\n",
        "          \"p\" : [\"o\", \"l\", \"n\"],\n",
        "          \"n\" : [\"m\", \"p\"],\n",
        "          }\n",
        "print(graph)"
      ],
      "execution_count": 43,
      "outputs": [
        {
          "output_type": "stream",
          "name": "stdout",
          "text": [
            "{'r': ['o', 'm'], 'o': ['r', 'm', 'p'], 'm': ['o', 'n'], 'l': ['r', 'p'], 'p': ['o', 'l', 'n'], 'n': ['m', 'p']}\n"
          ]
        }
      ]
    },
    {
      "cell_type": "code",
      "metadata": {
        "colab": {
          "base_uri": "https://localhost:8080/"
        },
        "id": "khqOAAXj4TtB",
        "outputId": "8bf2d160-d425-4b86-9a7d-e7806a8e862e"
      },
      "source": [
        "class graph:\n",
        "    \n",
        "    def __init__ (self,gdict=None):\n",
        "        if gdict is None:\n",
        "            gdict = {}\n",
        "        self.gdict = gdict\n",
        "\n",
        "    def getVertices(self):\n",
        "        return list(self.gdict.keys())\n",
        "\n",
        "graph_elements = { \"a\" : [\"b\", \"c\"], \n",
        "                   \"b\" : [\"a\", \"d\"], \n",
        "                   \"c\" : [\"a\", \"d\"],\n",
        "                   \"d\" : [\"e\"],\n",
        "                   \"e\" : [\"d\"]\n",
        "                  } \n",
        "g = graph(graph_elements) \n",
        "print(g.getVertices())  "
      ],
      "execution_count": 44,
      "outputs": [
        {
          "output_type": "stream",
          "name": "stdout",
          "text": [
            "['a', 'b', 'c', 'd', 'e']\n"
          ]
        }
      ]
    },
    {
      "cell_type": "code",
      "metadata": {
        "colab": {
          "base_uri": "https://localhost:8080/"
        },
        "id": "zuLdSmknMUpL",
        "outputId": "2820142e-cd11-4daf-b7df-518422b0ffc9"
      },
      "source": [
        "#Latihan 1\n",
        "\n",
        "class graph:\n",
        "    \n",
        "    def __init__ (self,gdict=None):\n",
        "        if gdict is None:\n",
        "            gdict = {}\n",
        "        self.gdict = gdict\n",
        "\n",
        "    def getVertices(self):\n",
        "        return list(self.gdict.keys())\n",
        "\n",
        "graph_elements = { \"t\" : [\"u\", \"v\"],\n",
        "                   \"u\" : [\"v\", \"t\"],\n",
        "                   \"v\" : [\"u\", \"x\"],\n",
        "                   \"w\" : [\"x\", \"z\", \"t\"],\n",
        "                   \"x\" : [\"w\", \"s\", \"v\"],\n",
        "                  \"s\" : [\"x\"]\n",
        "                    }\n",
        "g = graph(graph_elements) \n",
        "print(g.getVertices())  "
      ],
      "execution_count": 45,
      "outputs": [
        {
          "output_type": "stream",
          "name": "stdout",
          "text": [
            "['t', 'u', 'v', 'w', 'x', 's']\n"
          ]
        }
      ]
    },
    {
      "cell_type": "code",
      "metadata": {
        "colab": {
          "base_uri": "https://localhost:8080/"
        },
        "id": "EnVCrxpOLJAb",
        "outputId": "a149f58b-7437-41a4-e192-415f62e1e0a7"
      },
      "source": [
        "#Latihan 2\n",
        "\n",
        "class graph:\n",
        "    \n",
        "    def __init__ (self,gdict=None):\n",
        "        if gdict is None:\n",
        "            gdict = {}\n",
        "        self.gdict = gdict\n",
        "\n",
        "    def getVertices(self):\n",
        "        return list(self.gdict.keys())\n",
        "\n",
        "graph_elements = { \"r\" : [\"b\", \"c\"], \n",
        "                   \"o\" : [\"r\", \"m\", \"p\"], \n",
        "                   \"m\" : [\"o\", \"n\"],\n",
        "                   \"l\" : [\"r\", \"p\"],\n",
        "                   \"p\" : [\"o\", \"l\", \"n\"],\n",
        "                   \"n\" : [\"m\", \"p\"],\n",
        "                  } \n",
        "g = graph(graph_elements) \n",
        "print(g.getVertices())  "
      ],
      "execution_count": 53,
      "outputs": [
        {
          "output_type": "stream",
          "name": "stdout",
          "text": [
            "['r', 'o', 'm', 'l', 'p', 'n']\n"
          ]
        }
      ]
    },
    {
      "cell_type": "code",
      "metadata": {
        "colab": {
          "base_uri": "https://localhost:8080/"
        },
        "id": "ewrFgvPG4TlQ",
        "outputId": "509570aa-361d-4f17-c09a-4f09aeceb8d9"
      },
      "source": [
        "class graph:\n",
        "    \n",
        "    def __init__ (self,gdict=None):\n",
        "        if gdict is None:\n",
        "            gdict = {}\n",
        "        self.gdict = gdict\n",
        "\n",
        "    def edges(self):\n",
        "        return self.findedges()\n",
        "\n",
        "    def findedges(self):\n",
        "        edgename = []\n",
        "        for vrtx in self.gdict:\n",
        "            for nxtvrtx in self.gdict[vrtx]:\n",
        "                if {nxtvrtx, vrtx} not in edgename:\n",
        "                    edgename.append({vrtx, nxtvrtx})   \n",
        "        return edgename\n",
        "\n",
        "graph_elements = { \"a\" : [\"b\",\"c\"], \n",
        "                \"b\" : [\"a\", \"d\"], \n",
        "                \"c\" : [\"a\", \"d\"],\n",
        "                \"d\" : [\"e\"],\n",
        "                \"e\" : [\"d\"]\n",
        "                } \n",
        "g = graph(graph_elements) \n",
        "print(g.edges()) "
      ],
      "execution_count": 54,
      "outputs": [
        {
          "output_type": "stream",
          "name": "stdout",
          "text": [
            "[{'a', 'b'}, {'a', 'c'}, {'b', 'd'}, {'c', 'd'}, {'e', 'd'}]\n"
          ]
        }
      ]
    },
    {
      "cell_type": "code",
      "metadata": {
        "colab": {
          "base_uri": "https://localhost:8080/"
        },
        "id": "_ClFO115PE6I",
        "outputId": "559b7a71-b00c-48a2-8804-6a936aaaeae1"
      },
      "source": [
        "#Latihan 1\n",
        "class graph:\n",
        "    \n",
        "    def __init__ (self,gdict=None):\n",
        "        if gdict is None:\n",
        "            gdict = {}\n",
        "        self.gdict = gdict\n",
        "\n",
        "    def edges(self):\n",
        "        return self.findedges()\n",
        "\n",
        "    def findedges(self):\n",
        "        edgename = []\n",
        "        for vrtx in self.gdict:\n",
        "            for nxtvrtx in self.gdict[vrtx]:\n",
        "                if {nxtvrtx, vrtx} not in edgename:\n",
        "                    edgename.append({vrtx, nxtvrtx})   \n",
        "        return edgename\n",
        "\n",
        "graph_elements = { \"t\" : [\"u\", \"v\"],\n",
        "                   \"u\" : [\"v\", \"t\"],\n",
        "                   \"v\" : [\"u\", \"x\"],\n",
        "                   \"w\" : [\"x\", \"z\", \"t\"],\n",
        "                   \"x\" : [\"w\", \"s\", \"v\"],\n",
        "                  \"s\" : [\"x\"]\n",
        "                    }\n",
        "g = graph(graph_elements) \n",
        "print(g.edges()) "
      ],
      "execution_count": 55,
      "outputs": [
        {
          "output_type": "stream",
          "name": "stdout",
          "text": [
            "[{'t', 'u'}, {'t', 'v'}, {'v', 'u'}, {'x', 'v'}, {'x', 'w'}, {'w', 'z'}, {'t', 'w'}, {'x', 's'}]\n"
          ]
        }
      ]
    },
    {
      "cell_type": "code",
      "metadata": {
        "colab": {
          "base_uri": "https://localhost:8080/"
        },
        "id": "TCR5K0M5PTfY",
        "outputId": "d6e00b4e-8256-4af2-985a-53028237c8ba"
      },
      "source": [
        "#Latihan 2\n",
        "class graph:\n",
        "    \n",
        "    def __init__ (self,gdict=None):\n",
        "        if gdict is None:\n",
        "            gdict = {}\n",
        "        self.gdict = gdict\n",
        "\n",
        "    def edges(self):\n",
        "        return self.findedges()\n",
        "\n",
        "    def findedges(self):\n",
        "        edgename = []\n",
        "        for vrtx in self.gdict:\n",
        "            for nxtvrtx in self.gdict[vrtx]:\n",
        "                if {nxtvrtx, vrtx} not in edgename:\n",
        "                    edgename.append({vrtx, nxtvrtx})   \n",
        "        return edgename\n",
        "\n",
        "graph_elements =  { \"r\" : [\"o\", \"m\"],\n",
        "                     \"o\" : [\"r\", \"m\", \"p\"],\n",
        "                     \"m\" : [\"o\", \"n\"],\n",
        "                     \"l\" : [\"r\", \"p\"],\n",
        "                     \"p\" : [\"o\", \"l\", \"n\"],\n",
        "                     \"n\" : [\"m\", \"p\"],\n",
        "                    }\n",
        "g = graph(graph_elements) \n",
        "print(g.edges()) "
      ],
      "execution_count": 58,
      "outputs": [
        {
          "output_type": "stream",
          "name": "stdout",
          "text": [
            "[{'o', 'r'}, {'m', 'r'}, {'o', 'm'}, {'o', 'p'}, {'m', 'n'}, {'l', 'r'}, {'p', 'l'}, {'n', 'p'}]\n"
          ]
        }
      ]
    },
    {
      "cell_type": "code",
      "metadata": {
        "colab": {
          "base_uri": "https://localhost:8080/"
        },
        "id": "GuwFpIh04Th2",
        "outputId": "e8762504-eb15-402b-99db-5e653a9a1bad"
      },
      "source": [
        "class graph: \n",
        "    def __init__ (self,gdict=None):\n",
        "        if gdict is None:\n",
        "            gdict = {} \n",
        "        self.gdict = gdict \n",
        "    def getVertices(self):\n",
        "        return list(self.gdict.keys()) \n",
        "\n",
        "    def addVertex(self, vrtx):\n",
        "       if vrtx not in self.gdict:\n",
        "            self.gdict[vrtx] = [] \n",
        "\n",
        "graph_elements = { \"a\" : [\"b\", \"c\"],\n",
        "                   \"b\" : [\"a\", \"d\"], \n",
        "                   \"c\" : [\"a\", \"d\"],\n",
        "                   \"d\" : [\"e\"],\n",
        "                   \"e\" : [\"d\"]\n",
        "                   } \n",
        "g = graph(graph_elements) \n",
        "g.addVertex(\"f\") \n",
        "print(g.getVertices())"
      ],
      "execution_count": 48,
      "outputs": [
        {
          "output_type": "stream",
          "name": "stdout",
          "text": [
            "['a', 'b', 'c', 'd', 'e', 'f']\n"
          ]
        }
      ]
    },
    {
      "cell_type": "code",
      "metadata": {
        "colab": {
          "base_uri": "https://localhost:8080/"
        },
        "id": "a8CTPOiLUNBb",
        "outputId": "9fb20b6f-1c9f-48da-858d-12ceeb7a57ce"
      },
      "source": [
        "#Latihan \n",
        "class graph: \n",
        "    def __init__ (self,gdict=None):\n",
        "        if gdict is None:\n",
        "            gdict = {} \n",
        "        self.gdict = gdict \n",
        "    def getVertices(self):\n",
        "        return list(self.gdict.keys()) \n",
        "\n",
        "    def addVertex(self, vrtx):\n",
        "       if vrtx not in self.gdict:\n",
        "            self.gdict[vrtx] = [] \n",
        "\n",
        "graph_elements = { \"r\" : [\"o\", \"m\"],\n",
        "                     \"o\" : [\"r\", \"m\", \"p\"],\n",
        "                     \"m\" : [\"o\", \"n\"],\n",
        "                     \"l\" : [\"r\", \"p\"],\n",
        "                     \"p\" : [\"o\", \"l\", \"n\"],\n",
        "                     \"n\" : [\"m\", \"p\"],\n",
        "                    }\n",
        "g = graph(graph_elements) \n",
        "g.addVertex(\"f\")\n",
        "g.addVertex(\"g\") \n",
        "print(g.getVertices())"
      ],
      "execution_count": 66,
      "outputs": [
        {
          "output_type": "stream",
          "name": "stdout",
          "text": [
            "['r', 'o', 'm', 'l', 'p', 'n', 'f', 'g']\n"
          ]
        }
      ]
    },
    {
      "cell_type": "code",
      "metadata": {
        "id": "RP_h4S2p4Tee"
      },
      "source": [
        "class graph: \n",
        "    def __init__ (self,gdict=None): \n",
        "        if gdict is None: \n",
        "           gdict = {} \n",
        "        self.gdict = gdict \n",
        "    def edges(self): \n",
        "        return self.findedges() \n",
        "\n",
        "    def AddEdge(self, edge): \n",
        "        edge = set(edge)\n",
        "        (vrtx1, vrtx2) = tuple(edge) \n",
        "        if vrtx1 in self.gdict: \n",
        "           self.gdict[vrtx1].append(vrtx2) \n",
        "        else: \n",
        "            self.gdict[vrtxl] = [vrtx2] \n",
        "\n",
        "    def findedges(self): \n",
        "        edgename = [] \n",
        "        for vrtx in self.gdict: \n",
        "            for nxtvrtx in self.gdict[vrtx]: \n",
        "                if {nxtvrtx, vrtx} not in edgename: \n",
        "                    edgename.append({vrtx, nxtvrtx}) \n",
        "        return edgename \n"
      ],
      "execution_count": 64,
      "outputs": []
    },
    {
      "cell_type": "code",
      "metadata": {
        "colab": {
          "base_uri": "https://localhost:8080/"
        },
        "id": "vXjujwQR4TbH",
        "outputId": "8bc80867-7401-452c-87b5-0af21b4e39ee"
      },
      "source": [
        "graph_elements = { \"a\" : [\"b\", \"c\"],\n",
        "                \"b\" : [\"a\", \"d\"], \n",
        "                \"c\" : [\"a\", \"d\"],\n",
        "                \"d\" : [\"e\"],\n",
        "                \"e\" : [\"d\"]\n",
        "                } \n",
        "\n",
        "g = graph(graph_elements) \n",
        "g.AddEdge({'a','e'})\n",
        "g.AddEdge({'a','c'})\n",
        "print(g.edges())"
      ],
      "execution_count": 65,
      "outputs": [
        {
          "output_type": "stream",
          "name": "stdout",
          "text": [
            "[{'a', 'b'}, {'a', 'c'}, {'a', 'e'}, {'b', 'd'}, {'c', 'd'}, {'e', 'd'}]\n"
          ]
        }
      ]
    },
    {
      "cell_type": "code",
      "metadata": {
        "id": "JxYdhEw34TYL"
      },
      "source": [
        ""
      ],
      "execution_count": null,
      "outputs": []
    },
    {
      "cell_type": "code",
      "metadata": {
        "id": "x68c4-LL4TUf"
      },
      "source": [
        ""
      ],
      "execution_count": null,
      "outputs": []
    },
    {
      "cell_type": "code",
      "metadata": {
        "id": "ZoK3_FiM4TRy"
      },
      "source": [
        ""
      ],
      "execution_count": null,
      "outputs": []
    },
    {
      "cell_type": "code",
      "metadata": {
        "id": "HSswdYnM26Ox"
      },
      "source": [
        ""
      ],
      "execution_count": null,
      "outputs": []
    }
  ]
}