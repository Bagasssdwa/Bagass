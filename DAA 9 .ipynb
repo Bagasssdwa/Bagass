{
  "nbformat": 4,
  "nbformat_minor": 0,
  "metadata": {
    "colab": {
      "name": "Untitled5.ipynb",
      "provenance": [],
      "authorship_tag": "ABX9TyOmhjK/uPxs17SYHowDmvH1",
      "include_colab_link": true
    },
    "kernelspec": {
      "name": "python3",
      "display_name": "Python 3"
    },
    "language_info": {
      "name": "python"
    }
  },
  "cells": [
    {
      "cell_type": "markdown",
      "metadata": {
        "id": "view-in-github",
        "colab_type": "text"
      },
      "source": [
        "<a href=\"https://colab.research.google.com/github/Bagasssdwa/Bagass/blob/main/DAA%209%20.ipynb\" target=\"_parent\"><img src=\"https://colab.research.google.com/assets/colab-badge.svg\" alt=\"Open In Colab\"/></a>"
      ]
    },
    {
      "cell_type": "code",
      "metadata": {
        "colab": {
          "base_uri": "https://localhost:8080/"
        },
        "id": "RjtR4rTQyRhq",
        "outputId": "62141c4f-ba33-4baf-d164-b4d62c6b75db"
      },
      "source": [
        "pip install networkx"
      ],
      "execution_count": null,
      "outputs": [
        {
          "output_type": "stream",
          "name": "stdout",
          "text": [
            "Requirement already satisfied: networkx in /usr/local/lib/python3.7/dist-packages (2.6.3)\n"
          ]
        }
      ]
    },
    {
      "cell_type": "code",
      "metadata": {
        "id": "OM_Q-w8ryT2W"
      },
      "source": [
        "import numpy as np\n",
        "import networkx as nx\n",
        "import matplotlib.pyplot as plt\n",
        "%matplotlib inline"
      ],
      "execution_count": null,
      "outputs": []
    },
    {
      "cell_type": "code",
      "metadata": {
        "id": "zMJ90nt_yTy8"
      },
      "source": [
        "myWeb = nx.DiGraph()\n",
        "myPages = range(1,5)"
      ],
      "execution_count": null,
      "outputs": []
    },
    {
      "cell_type": "code",
      "metadata": {
        "id": "eO2rb262yTvA"
      },
      "source": [
        "connections = [(1,3),(2,1),(2,3),(3,1),(3,2),(3,4),(4,5),(5,1),(5,4)]\n",
        "myWeb.add_nodes_from(myPages)\n",
        "myWeb.add_edges_from(connections)"
      ],
      "execution_count": null,
      "outputs": []
    },
    {
      "cell_type": "code",
      "metadata": {
        "colab": {
          "base_uri": "https://localhost:8080/",
          "height": 319
        },
        "id": "mSYXjnaOyTrt",
        "outputId": "e3c0f03f-2e8e-4853-9452-23cd57292367"
      },
      "source": [
        "pos=nx.shell_layout(myWeb)\n",
        "nx.draw(myWeb, pos, arrows=True, with_labels=True)\n",
        "plt.show()"
      ],
      "execution_count": null,
      "outputs": [
        {
          "output_type": "display_data",
          "data": {
            "image/png": "[encoded data removed]",
            "text/plain": [
              "<Figure size 432x288 with 1 Axes>"
            ]
          },
          "metadata": {}
        }
      ]
    },
    {
      "cell_type": "code",
      "metadata": {
        "id": "PPbdxaY_yTot"
      },
      "source": [
        "def createPageRank(aGraph):\n",
        "    nodes_set = len(aGraph)\n",
        "    M = nx.to_numpy_matrix(aGraph)\n",
        "    outwards = np.squeeze(np.asarray(np.sum(M, axis=1)))\n",
        "    prob_outwards = np.array(\n",
        "        [1.0/count if count>0 else 0.0 for count in outwards])\n",
        "    G = np.asarray(np.multiply(M.T, prob_outwards))\n",
        "    p = np.ones(nodes_set)/float(nodes_set)\n",
        "    if np.min(np.sum(G,axis=0)) < 1.0:\n",
        "        print('WARN: G is substochastic')\n",
        "    return G,p "
      ],
      "execution_count": 48,
      "outputs": []
    },
    {
      "cell_type": "code",
      "metadata": {
        "id": "xcE6z4tgyTl4",
        "colab": {
          "base_uri": "https://localhost:8080/"
        },
        "outputId": "99a0b625-5581-4298-bb5b-6c03d404aad5"
      },
      "source": [
        "G, p = createPageRank(myWeb)\n",
        "print (G)"
      ],
      "execution_count": 49,
      "outputs": [
        {
          "output_type": "stream",
          "name": "stdout",
          "text": [
            "WARN: G is substochastic\n",
            "[[0.         0.5        0.5        0.         1.         0.        ]\n",
            " [0.33333333 0.         0.5        0.         0.         0.        ]\n",
            " [0.33333333 0.5        0.         0.         0.         0.        ]\n",
            " [0.         0.         0.5        0.         1.         0.        ]\n",
            " [0.         0.         0.         0.5        0.         0.        ]\n",
            " [0.         0.         0.         0.         1.         0.        ]]\n"
          ]
        }
      ]
    },
    {
      "cell_type": "code",
      "metadata": {
        "id": "l3DoaP4syTi3",
        "colab": {
          "base_uri": "https://localhost:8080/",
          "height": 319
        },
        "outputId": "a9391f23-c279-46bb-c022-9488c34f8f26"
      },
      "source": [
        "#Tugas 1\n",
        "myWeb = nx.DiGraph()\n",
        "myPages = range(1,6)\n",
        "connections = [(1,2),(2,3),(3,4),(4,5),(5,6)]\n",
        "myWeb.add_nodes_from(myPages)\n",
        "myWeb.add_edges_from(connections)\n",
        "\n",
        "pos=nx.spiral_layout(myWeb)\n",
        "nx.draw(myWeb, pos, arrows=True, with_labels=True)\n",
        "plt.show()"
      ],
      "execution_count": 114,
      "outputs": [
        {
          "output_type": "display_data",
          "data": {
            "image/png": "[encoded data removed]",
            "text/plain": [
              "<Figure size 432x288 with 1 Axes>"
            ]
          },
          "metadata": {}
        }
      ]
    },
    {
      "cell_type": "code",
      "metadata": {
        "id": "C5QROY01yTdS",
        "colab": {
          "base_uri": "https://localhost:8080/",
          "height": 319
        },
        "outputId": "1826f4af-0d08-4fba-94f0-f2399511adb6"
      },
      "source": [
        "#Tugas 2\n",
        "\n",
        "myWeb = nx.DiGraph()\n",
        "myPages = range(1,5)\n",
        "connections = [(1,2),(2,3),(3,4),(4,5),(5,1)]\n",
        "myWeb.add_nodes_from(myPages)\n",
        "myWeb.add_edges_from(connections)\n",
        "\n",
        "pos=nx.kamada_kawai_layout(myWeb)\n",
        "nx.draw(myWeb, pos, arrows=True, with_labels=True)\n",
        "plt.show()"
      ],
      "execution_count": 115,
      "outputs": [
        {
          "output_type": "display_data",
          "data": {
            "image/png": "[encoded data removed]",
            "text/plain": [
              "<Figure size 432x288 with 1 Axes>"
            ]
          },
          "metadata": {}
        }
      ]
    },
    {
      "cell_type": "code",
      "metadata": {
        "id": "Ub_5NnV8G_ft"
      },
      "source": [
        "def createPageRank(aGraph):\n",
        "    nodes_set = len(aGraph)\n",
        "    M = nx.to_numpy_matrix(aGraph)\n",
        "    outwards = np.squeeze(np.asarray(np.sum(M, axis=1)))\n",
        "    prob_outwards = np.array(\n",
        "        [1.0/count if count>0 else 0.0 for count in outwards])\n",
        "    G = np.asarray(np.multiply(M.T, prob_outwards))\n",
        "    p = np.ones(nodes_set)/float(nodes_set)\n",
        "    if np.min(np.sum(G,axis=0)) < 1.0:\n",
        "        print('WARN: G is substochastic')\n",
        "    return G,p "
      ],
      "execution_count": 116,
      "outputs": []
    },
    {
      "cell_type": "code",
      "metadata": {
        "colab": {
          "base_uri": "https://localhost:8080/"
        },
        "id": "K7TN-b6tHCtG",
        "outputId": "f6796cd9-b237-4c97-b214-142d2b6f04c6"
      },
      "source": [
        "G, p = createPageRank(myWeb)\n",
        "print (G)"
      ],
      "execution_count": 117,
      "outputs": [
        {
          "output_type": "stream",
          "name": "stdout",
          "text": [
            "[[0. 0. 0. 0. 1.]\n",
            " [1. 0. 0. 0. 0.]\n",
            " [0. 1. 0. 0. 0.]\n",
            " [0. 0. 1. 0. 0.]\n",
            " [0. 0. 0. 1. 0.]]\n"
          ]
        }
      ]
    },
    {
      "cell_type": "code",
      "metadata": {
        "colab": {
          "base_uri": "https://localhost:8080/",
          "height": 319
        },
        "id": "PxQPden3EShW",
        "outputId": "d4312fbc-268b-435e-b36a-5279805c18f0"
      },
      "source": [
        "#Tugas 3\n",
        "\n",
        "myWeb = nx.DiGraph()\n",
        "myPages = range(1,4)\n",
        "connections = [(1,2),(2,1),(2,3),(3,2),(3,4), (4,3)]\n",
        "myWeb.add_nodes_from(myPages)\n",
        "myWeb.add_edges_from(connections)\n",
        "\n",
        "pos=nx.spring_layout(myWeb)\n",
        "nx.draw(myWeb, pos, arrows=True, with_labels=True)\n",
        "plt.show()"
      ],
      "execution_count": 118,
      "outputs": [
        {
          "output_type": "display_data",
          "data": {
            "image/png": "[encoded data removed]",
            "text/plain": [
              "<Figure size 432x288 with 1 Axes>"
            ]
          },
          "metadata": {}
        }
      ]
    },
    {
      "cell_type": "code",
      "metadata": {
        "id": "WSFtbbu6ETvv"
      },
      "source": [
        "def createPageRank(aGraph):\n",
        "    nodes_set = len(aGraph)\n",
        "    M = nx.to_numpy_matrix(aGraph)\n",
        "    outwards = np.squeeze(np.asarray(np.sum(M, axis=1)))\n",
        "    prob_outwards = np.array(\n",
        "        [1.0/count if count>0 else 0.0 for count in outwards])\n",
        "    G = np.asarray(np.multiply(M.T, prob_outwards))\n",
        "    p = np.ones(nodes_set)/float(nodes_set)\n",
        "    if np.min(np.sum(G,axis=0)) < 1.0:\n",
        "        print('WARN: G is substochastic')\n",
        "    return G,p "
      ],
      "execution_count": 119,
      "outputs": []
    },
    {
      "cell_type": "code",
      "metadata": {
        "colab": {
          "base_uri": "https://localhost:8080/"
        },
        "id": "xVDmD4evGZcL",
        "outputId": "f3b7eca3-f45e-4861-b41f-7ac9bf26140e"
      },
      "source": [
        "G, p = createPageRank(myWeb)\n",
        "print (G)"
      ],
      "execution_count": 120,
      "outputs": [
        {
          "output_type": "stream",
          "name": "stdout",
          "text": [
            "[[0.  0.5 0.  0. ]\n",
            " [1.  0.  0.5 0. ]\n",
            " [0.  0.5 0.  1. ]\n",
            " [0.  0.  0.5 0. ]]\n"
          ]
        }
      ]
    },
    {
      "cell_type": "code",
      "metadata": {
        "colab": {
          "base_uri": "https://localhost:8080/",
          "height": 319
        },
        "id": "ynRPrcCKHMxe",
        "outputId": "008d6731-d1b9-4593-f375-0d621b658388"
      },
      "source": [
        "#Tugas 4\n",
        "\n",
        "myWeb = nx.DiGraph()\n",
        "myPages = range(1,6)\n",
        "connections = [(1,2),(2,3),(3,4),(4,5),(5,6), (6,1)]\n",
        "myWeb.add_nodes_from(myPages)\n",
        "myWeb.add_edges_from(connections)\n",
        "\n",
        "pos=nx.shell_layout(myWeb)\n",
        "nx.draw(myWeb, pos, arrows=True, with_labels=True)\n",
        "plt.show()"
      ],
      "execution_count": 121,
      "outputs": [
        {
          "output_type": "display_data",
          "data": {
            "image/png": "[encoded data removed]",
            "text/plain": [
              "<Figure size 432x288 with 1 Axes>"
            ]
          },
          "metadata": {}
        }
      ]
    },
    {
      "cell_type": "code",
      "metadata": {
        "id": "O2xwEHg8J5dc"
      },
      "source": [
        "def createPageRank(aGraph):\n",
        "    nodes_set = len(aGraph)\n",
        "    M = nx.to_numpy_matrix(aGraph)\n",
        "    outwards = np.squeeze(np.asarray(np.sum(M, axis=1)))\n",
        "    prob_outwards = np.array(\n",
        "        [1.0/count if count>0 else 0.0 for count in outwards])\n",
        "    G = np.asarray(np.multiply(M.T, prob_outwards))\n",
        "    p = np.ones(nodes_set)/float(nodes_set)\n",
        "    if np.min(np.sum(G,axis=0)) < 1.0:\n",
        "        print('WARN: G is substochastic')\n",
        "    return G,p "
      ],
      "execution_count": 122,
      "outputs": []
    },
    {
      "cell_type": "code",
      "metadata": {
        "colab": {
          "base_uri": "https://localhost:8080/"
        },
        "id": "4xyUPGqCJ8Dq",
        "outputId": "b1a2976a-3478-4d84-a906-8c6cb5adef1f"
      },
      "source": [
        "G, p = createPageRank(myWeb)\n",
        "print (G)"
      ],
      "execution_count": 123,
      "outputs": [
        {
          "output_type": "stream",
          "name": "stdout",
          "text": [
            "[[0. 0. 0. 0. 0. 1.]\n",
            " [1. 0. 0. 0. 0. 0.]\n",
            " [0. 1. 0. 0. 0. 0.]\n",
            " [0. 0. 1. 0. 0. 0.]\n",
            " [0. 0. 0. 1. 0. 0.]\n",
            " [0. 0. 0. 0. 1. 0.]]\n"
          ]
        }
      ]
    },
    {
      "cell_type": "code",
      "metadata": {
        "colab": {
          "base_uri": "https://localhost:8080/",
          "height": 319
        },
        "id": "mCW9YW55HnSw",
        "outputId": "9a6e1d73-3797-456f-d1f5-1e45748431b5"
      },
      "source": [
        "#Tugas 5\n",
        "\n",
        "myWeb = nx.DiGraph()\n",
        "myPages = range(1,4)\n",
        "connections = [(1,2),(2,1),(2,3),(3,2),(3,4), (4,3),(4,1)]\n",
        "myWeb.add_nodes_from(myPages)\n",
        "myWeb.add_edges_from(connections)\n",
        "\n",
        "pos=nx.spring_layout(myWeb)\n",
        "nx.draw(myWeb, pos, arrows=True, with_labels=True)\n",
        "plt.show()"
      ],
      "execution_count": 124,
      "outputs": [
        {
          "output_type": "display_data",
          "data": {
            "image/png": "[encoded data removed]",
            "text/plain": [
              "<Figure size 432x288 with 1 Axes>"
            ]
          },
          "metadata": {}
        }
      ]
    },
    {
      "cell_type": "code",
      "metadata": {
        "id": "cOOMbXLfJ-ai"
      },
      "source": [
        "def createPageRank(aGraph):\n",
        "    nodes_set = len(aGraph)\n",
        "    M = nx.to_numpy_matrix(aGraph)\n",
        "    outwards = np.squeeze(np.asarray(np.sum(M, axis=1)))\n",
        "    prob_outwards = np.array(\n",
        "        [1.0/count if count>0 else 0.0 for count in outwards])\n",
        "    G = np.asarray(np.multiply(M.T, prob_outwards))\n",
        "    p = np.ones(nodes_set)/float(nodes_set)\n",
        "    if np.min(np.sum(G,axis=0)) < 1.0:\n",
        "        print('WARN: G is substochastic')\n",
        "    return G,p "
      ],
      "execution_count": 125,
      "outputs": []
    },
    {
      "cell_type": "code",
      "metadata": {
        "colab": {
          "base_uri": "https://localhost:8080/"
        },
        "id": "zsX2TmloJ_Hb",
        "outputId": "03b63d22-fdd7-4f3a-b4ac-477784fff1ce"
      },
      "source": [
        "G, p = createPageRank(myWeb)\n",
        "print (G)"
      ],
      "execution_count": 126,
      "outputs": [
        {
          "output_type": "stream",
          "name": "stdout",
          "text": [
            "[[0.  0.5 0.  0.5]\n",
            " [1.  0.  0.5 0. ]\n",
            " [0.  0.5 0.  0.5]\n",
            " [0.  0.  0.5 0. ]]\n"
          ]
        }
      ]
    },
    {
      "cell_type": "code",
      "metadata": {
        "colab": {
          "base_uri": "https://localhost:8080/",
          "height": 319
        },
        "id": "CRg-UkP2IqLQ",
        "outputId": "e842e1d3-f759-4b30-d963-827d4ca31b8d"
      },
      "source": [
        "#Tugas 6\n",
        "\n",
        "myWeb = nx.DiGraph()\n",
        "myPages = range(1,5)\n",
        "connections = [(1,2),(2,3),(3,4),(3,2),(3,4), (4,1),(4,5),(5,1)]\n",
        "myWeb.add_nodes_from(myPages)\n",
        "myWeb.add_edges_from(connections)\n",
        "\n",
        "pos=nx.kamada_kawai_layout(myWeb)\n",
        "nx.draw(myWeb, pos, arrows=True, with_labels=True)\n",
        "plt.show()"
      ],
      "execution_count": 130,
      "outputs": [
        {
          "output_type": "display_data",
          "data": {
            "image/png": "[encoded data removed]",
            "text/plain": [
              "<Figure size 432x288 with 1 Axes>"
            ]
          },
          "metadata": {}
        }
      ]
    },
    {
      "cell_type": "code",
      "metadata": {
        "id": "cTVAnwOOKLY0"
      },
      "source": [
        "def createPageRank(aGraph):\n",
        "    nodes_set = len(aGraph)\n",
        "    M = nx.to_numpy_matrix(aGraph)\n",
        "    outwards = np.squeeze(np.asarray(np.sum(M, axis=1)))\n",
        "    prob_outwards = np.array(\n",
        "        [1.0/count if count>0 else 0.0 for count in outwards])\n",
        "    G = np.asarray(np.multiply(M.T, prob_outwards))\n",
        "    p = np.ones(nodes_set)/float(nodes_set)\n",
        "    if np.min(np.sum(G,axis=0)) < 1.0:\n",
        "        print('WARN: G is substochastic')\n",
        "    return G,p "
      ],
      "execution_count": 131,
      "outputs": []
    },
    {
      "cell_type": "code",
      "metadata": {
        "colab": {
          "base_uri": "https://localhost:8080/"
        },
        "id": "oPgURTSNKNHz",
        "outputId": "552967d1-726a-40dc-f93e-2178e6d5cd6c"
      },
      "source": [
        "G, p = createPageRank(myWeb)\n",
        "print (G)"
      ],
      "execution_count": 132,
      "outputs": [
        {
          "output_type": "stream",
          "name": "stdout",
          "text": [
            "[[0.  0.  0.  0.5 1. ]\n",
            " [1.  0.  0.5 0.  0. ]\n",
            " [0.  1.  0.  0.  0. ]\n",
            " [0.  0.  0.5 0.  0. ]\n",
            " [0.  0.  0.  0.5 0. ]]\n"
          ]
        }
      ]
    }
  ]
}